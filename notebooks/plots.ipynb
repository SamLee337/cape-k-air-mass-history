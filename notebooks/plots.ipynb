{
 "cells": [
  {
   "cell_type": "code",
   "execution_count": null,
   "id": "7d18ef2c-ac81-49b2-99cc-bc62f1b933d5",
   "metadata": {},
   "outputs": [],
   "source": [
    "# All libraries required for analysis\n",
    "import pandas as pd\n",
    "import datetime\n",
    "import matplotlib.pyplot as plt\n",
    "import numpy as np\n",
    "import seaborn as sns\n",
    "import string \n",
    "import regex"
   ]
  },
  {
   "cell_type": "code",
   "execution_count": null,
   "id": "e6853877-08b4-47cb-b259-349ea97413ae",
   "metadata": {},
   "outputs": [],
   "source": [
    "#define x and y\n",
    "x =\n",
    "y = "
   ]
  },
  {
   "cell_type": "code",
   "execution_count": null,
   "id": "97bef742-4a96-4175-bddf-6dadca13d84d",
   "metadata": {},
   "outputs": [],
   "source": [
    "plt.plot(x, y)\n",
    "#More plotting options\n",
    "#plt.plot(rad_df.datetime, rad_df.radon, marker='o', linestyle='', markersize=8, color='r', label='line Plot')\n",
    "plt.title('Plot title')\n",
    "plt.xlabel('x axis title')\n",
    "plt.ylabel('y axis title')\n",
    "plt.show();"
   ]
  },
  {
   "cell_type": "code",
   "execution_count": null,
   "id": "cb85f948-67a4-47d5-9966-a2605b7a1bb8",
   "metadata": {},
   "outputs": [],
   "source": []
  },
  {
   "cell_type": "code",
   "execution_count": null,
   "id": "13465fd0-7b43-4652-b5ab-a8af42162f39",
   "metadata": {},
   "outputs": [],
   "source": []
  },
  {
   "cell_type": "code",
   "execution_count": null,
   "id": "51a49bd9-21be-4560-a1df-16a9b7e05a4c",
   "metadata": {},
   "outputs": [],
   "source": []
  },
  {
   "cell_type": "code",
   "execution_count": null,
   "id": "fd821298-af0b-4462-b4c5-f0876c9dca40",
   "metadata": {},
   "outputs": [],
   "source": []
  },
  {
   "cell_type": "code",
   "execution_count": null,
   "id": "2f7f8e98-6932-4124-8c2d-915e02316ef0",
   "metadata": {},
   "outputs": [],
   "source": []
  },
  {
   "cell_type": "code",
   "execution_count": null,
   "id": "1002fdb8-1765-4cd9-b8ae-a02a8a0488a2",
   "metadata": {},
   "outputs": [],
   "source": []
  },
  {
   "cell_type": "code",
   "execution_count": null,
   "id": "5f05dd1c-71c8-4f8f-9ae4-3099ddabc3b3",
   "metadata": {},
   "outputs": [],
   "source": []
  },
  {
   "cell_type": "code",
   "execution_count": null,
   "id": "b6782604-609e-40bf-ba90-a69037695368",
   "metadata": {},
   "outputs": [],
   "source": []
  },
  {
   "cell_type": "code",
   "execution_count": null,
   "id": "c5570f1a-7026-4e36-90d5-95484703fda7",
   "metadata": {},
   "outputs": [],
   "source": []
  }
 ],
 "metadata": {
  "kernelspec": {
   "display_name": "Python 3 (ipykernel)",
   "language": "python",
   "name": "python3"
  },
  "language_info": {
   "codemirror_mode": {
    "name": "ipython",
    "version": 3
   },
   "file_extension": ".py",
   "mimetype": "text/x-python",
   "name": "python",
   "nbconvert_exporter": "python",
   "pygments_lexer": "ipython3",
   "version": "3.12.3"
  }
 },
 "nbformat": 4,
 "nbformat_minor": 5
}
